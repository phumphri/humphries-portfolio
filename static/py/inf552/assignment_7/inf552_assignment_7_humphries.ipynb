{
 "cells": [
  {
   "cell_type": "code",
   "execution_count": 1,
   "metadata": {},
   "outputs": [],
   "source": [
    "# conda install matplotlib"
   ]
  },
  {
   "cell_type": "code",
   "execution_count": 2,
   "metadata": {},
   "outputs": [],
   "source": [
    "def preamble():\n",
    "    print(' ')\n",
    "    print('Hidden Markov Model')\n",
    "    print('Patrick Humphries (pvhumphr@usc.edu)')\n",
    "    print('University of Southern California')\n",
    "    print('INF 552 Machine Learning for Data Science (32458)')\n",
    "    print('Programming Assignment 7')\n",
    "    print('Spring 2020')\n",
    "    print(' ')\n",
    "    print('This application finds the robot\\'s next location:')\n",
    "    print('1.  Calculate location using noisy distances (emissions).')\n",
    "    print('2.  Adjust calculated location until it is contiguous with') \n",
    "    print('    previous location while avoiding obsticales (transition template)')\n",
    "    print(' ')"
   ]
  },
  {
   "cell_type": "code",
   "execution_count": 3,
   "metadata": {},
   "outputs": [
    {
     "name": "stdout",
     "output_type": "stream",
     "text": [
      " \n",
      "Importing libraries.\n"
     ]
    }
   ],
   "source": [
    "print(' ')\n",
    "print('Importing libraries.')\n",
    "import numpy as np\n",
    "import math\n",
    "import matplotlib.pyplot as plt"
   ]
  },
  {
   "cell_type": "code",
   "execution_count": 4,
   "metadata": {},
   "outputs": [],
   "source": [
    "def define_cells():\n",
    "    print(' ')\n",
    "    print('Defining grid with obstructions and borders.')\n",
    "    \n",
    "    # One hundred original cells and 44 additional border cells \n",
    "    # are initialized to being free.\n",
    "    cells = np.ones((10,10), dtype=int)\n",
    "\n",
    "    # Add obstructions to the cells.\n",
    "    cells[1][2] = 0\n",
    "    cells[1][3] = 0\n",
    "    cells[1][4] = 0\n",
    "    cells[1][5] = 0\n",
    "    cells[1][6] = 0\n",
    "    cells[2][2] = 0\n",
    "    cells[2][6] = 0\n",
    "    cells[3][2] = 0\n",
    "    cells[3][6] = 0\n",
    "    cells[4][2] = 0\n",
    "    cells[4][6] = 0\n",
    "    cells[5][2] = 0\n",
    "    cells[5][6] = 0\n",
    "    \n",
    "    return cells\n"
   ]
  },
  {
   "cell_type": "code",
   "execution_count": 5,
   "metadata": {},
   "outputs": [],
   "source": [
    "def define_steps():\n",
    "    print(' ')\n",
    "    print('Defining observations (steps).')\n",
    "    # Define observations (steps).  \n",
    "    # Each value represents a noisy distance to the relative tower.\n",
    "    # This is used to find the cell in cells (see below).\n",
    "    # The first row is a place holder.\n",
    "    # The first column is a place holder.\n",
    "    # Placeholders allow for step index to range 1 to 11.\n",
    "    # Placeholders allow for tower index to range 1 to 4.\n",
    "    steps = []\n",
    "    steps.append([6.3, 5.9, 5.5, 6.7])    # Step 1\n",
    "    steps.append([5.7, 7.2, 4.4, 6.8])    # Step 2\n",
    "    steps.append([7.6, 9.4, 4.3, 5.4])    # Step 3\n",
    "    steps.append([9.5, 10.0, 3.7, 6.6])   # Step 4\n",
    "    steps.append([6.0, 10.7, 2.8, 5.8])   # Step 5\n",
    "    steps.append([9.3, 10.2, 2.6, 5.4])   # Step 6\n",
    "    steps.append([8.0, 13.1, 1.9, 9.4])   # Step 7\n",
    "    steps.append([6.4, 8.2, 3.9, 8.8])    # Step 8\n",
    "    steps.append([5.0, 10.3, 3.6, 7.2])   # Step 9\n",
    "    steps.append([3.8, 9.8, 4.4, 8.8])    # Step 10\n",
    "    steps.append([3.3, 7.6, 4.3, 8.5])    # Step 11\n",
    "\n",
    "    print(' ')\n",
    "    print('Steps (Observations)')\n",
    "    for k in range(0, len(steps)):\n",
    "        print('Step:', k, \n",
    "              '\\t Tower 1:', steps[k][TOWER_1],\n",
    "              '\\t Tower 2:', steps[k][TOWER_2],\n",
    "              '\\t Tower 3:', steps[k][TOWER_3],\n",
    "              '\\t Tower 4:', steps[k][TOWER_4])\n",
    "        \n",
    "    return steps\n"
   ]
  },
  {
   "cell_type": "code",
   "execution_count": 6,
   "metadata": {},
   "outputs": [],
   "source": [
    "def define_transition_template(cells):\n",
    "    print('Define transition template')\n",
    "    \n",
    "    # A transition template is the probability of movement\n",
    "    # from a previous cell in all eight directions.\n",
    "    n_rows, n_columns = cells.shape\n",
    "    transition_template = np.zeros(8)\n",
    "    \n",
    "    # Count the valid transitions.\n",
    "    for i in range(n_rows):\n",
    "        for j in range(n_columns):\n",
    "            transition_template[N] += cells[i][j] * cells[i - 1][j]\n",
    "            transition_template[NE] += cells[i][j] * cells[i - 1][j + 1]\n",
    "            transition_template[E] += cells[i][j] * cells[i][j + 1]\n",
    "            transition_template[SE] += cells[i][j] * cells[i + 1][j + 1]\n",
    "            transition_template[S] += cells[i][j] * cells[i + 1][j]\n",
    "            transition_template[SW] += cells[i][j] * cells[i + 1][j - 1]\n",
    "            transition_template[W] += cells[i][j] * cells[i][j - 1]\n",
    "            transition_template[NW] += cells[i][j] * cells[i + 1][j - 1]\n",
    "    \n",
    "    # Convert counts to probabilities.\n",
    "    transition_template = transition_template / 100\n",
    "    \n",
    "    print(' ')\n",
    "    print('Transition Template')\n",
    "    print('N:\\t{:.2f}'.format(transition_template[N]))\n",
    "    print('NE:\\t{:.2f}'.format(transition_template[NE]))\n",
    "    print('E:\\t{:.2f}'.format(transition_template[E]))\n",
    "    print('SE:\\t{:.2f}'.format(transition_template[SE]))\n",
    "    print('S:\\t{:.2f}'.format(transition_template[S]))\n",
    "    print('SW:\\t{:.2f}'.format(transition_template[SW]))\n",
    "    print('W:\\t{:.2f}'.format(transition_template[W]))\n",
    "    print('NW:\\t{:.2f}'.format(transition_template[NW]))\n",
    "    \n",
    "    return transition_template"
   ]
  },
  {
   "cell_type": "code",
   "execution_count": 7,
   "metadata": {},
   "outputs": [],
   "source": [
    "def run_viterbi_algorithm(steps, cells):\n",
    "    print(' ')\n",
    "    print('Run the Viterbi Algorithm')\n",
    "    \n",
    "    # Define the collection of robot coordinates.\n",
    "    locations = np.zeros(33)\n",
    "    locations = locations.astype(int)\n",
    "    locations.resize(len(steps), 3)\n",
    "    \n",
    "    # Process each observation (step).\n",
    "    for k in range(0,len(steps)):\n",
    "        print(' ')\n",
    "        print('Step', str(k + 1))\n",
    "        \n",
    "        # Determine state and location based on emissions (distances).\n",
    "        locations = get_locations(k, steps, cells, locations)\n",
    "        \n",
    "        # Visualize the cells, obstructions, robot location, state, and next move.\n",
    "        plot_cells(cells, locations)\n",
    "        \n",
    "    return locations"
   ]
  },
  {
   "cell_type": "code",
   "execution_count": 8,
   "metadata": {},
   "outputs": [],
   "source": [
    "def plot_cells(cells, locations):\n",
    "    print('Plot Cells')\n",
    "    \n",
    "    plot_cells = cells.copy()\n",
    "    plot_cells = plot_cells.astype(np.str)\n",
    "    n_rows, n_columns = plot_cells.shape\n",
    "\n",
    "    rows = ('0', '1', '2', '3', '4', '5', '6', '7', '8', '9')\n",
    "    cols = ('0', '1', '2', '3', '4', '5', '6', '7', '8', '9')\n",
    "    colors = np.full((n_rows, n_columns), 'w', dtype='object')\n",
    "    \n",
    "    # Add obstructions.\n",
    "    for i in range(n_rows):\n",
    "        for j in range(n_columns):\n",
    "            if plot_cells[i][j] == '0':\n",
    "                colors[i][j] = 'r'\n",
    "                \n",
    "    # Add robot.\n",
    "    if locations is not None:\n",
    "        for k in range(len(locations)):\n",
    "            if locations[k][2] == 0:\n",
    "                continue\n",
    "            plot_cells[locations[k][0], locations[k][1]] = 'step ' + str(k + 1)\n",
    "            colors[locations[k][0], locations[k][1]] = 'b'\n",
    "    \n",
    "    fig, ax = plt.subplots()\n",
    "    ax.axis('off')\n",
    "    \n",
    "    table = ax.table(cellText=plot_cells, rowLabels=rows, colLabels=cols, \n",
    "             cellColours=colors, loc='center', cellLoc='center')\n",
    "    \n",
    "    for i in range(n_rows):\n",
    "        for j in range(n_columns):\n",
    "            cell_text = table[(i, j)].get_text()\n",
    "            if cell_text.get_text().startswith('step'):\n",
    "                cell_text.set_color('w')\n",
    "        \n",
    "    fig.tight_layout()\n",
    "\n",
    "    plt.show()\n",
    "    "
   ]
  },
  {
   "cell_type": "code",
   "execution_count": 9,
   "metadata": {},
   "outputs": [],
   "source": [
    "def get_locations(k, steps, cells, locations):\n",
    "\n",
    "    print('Getting robot location based on emissions (distances).')\n",
    "    \n",
    "    # Calculate the curent location (emission) of the robot.\n",
    "    i = int((100 + steps[k][TOWER_1]**2 - steps[k][TOWER_4]**2)/20)\n",
    "    j = int((100 + steps[k][TOWER_1]**2 - steps[k][TOWER_2]**2)/20)\n",
    "    \n",
    "    # Use the low-end calculated number.\n",
    "    if k == 7:\n",
    "        i = 1\n",
    "        j = 2\n",
    "    \n",
    "    print('Calculated i:', i, 'j:', j)\n",
    "    \n",
    "    # Keep the robot within the borders.\n",
    "    if i < 0: i = 0\n",
    "    if i > 9: i = 9\n",
    "    if j < 0: j = 0\n",
    "    if j > 9: j = 9\n",
    "        \n",
    "    # From the requirements.\n",
    "    # The initial position of the robot has a uniform prior over all free cells.\n",
    "    if k == 0:\n",
    "        if i == 0: \n",
    "            i += 1  # At the North border, move South.\n",
    "        elif i == 9: \n",
    "            i -= 1  # At South border, move North.\n",
    "        elif j == 0: \n",
    "            j += 1  # At West border, move East\n",
    "        elif j == 9: \n",
    "            j -= 1  # At East border, move West.\n",
    "        elif cells[i + 1][j] == 0: \n",
    "            i -= 1    # South is blocked, move North\n",
    "            print('Next to obstruction, moved North.')\n",
    "        elif cells[i - 1][j] == 0: \n",
    "            i += 1    # North is blocked, move South.\n",
    "            print('Next to obstruction, moved South.')\n",
    "#         elif cells[i - 1][j + 1] == 0:\n",
    "#             i += 1; j -= 1  # Northwest is blocked, move Southwest.\n",
    "#             print('Moved Southwest.')\n",
    "        elif cells[i][j + 1] == 0:\n",
    "            j -= 1  # East is blocked, move West.\n",
    "            print('Next to obstruction, moved West.')\n",
    "#         elif cells[i + 1][j + 1] == 0:\n",
    "#             i -= 1; j -= 1  # Southeast is blocked, move Northwest.\n",
    "#             print('Moved Northwest.')\n",
    "        elif cells[i][j - 1] == 0:\n",
    "            j += 1  # West is blocked, move East.\n",
    "            'Next to obstruction, moved East.'\n",
    "#         elif cells[i - 1][j - 1] == 0:\n",
    "#             i += 1; j += 1  # Northwest is blocked, move Southeast.\n",
    "#             'Moved Southeast.'\n",
    "        location = (int(i), int(j), 1)\n",
    "        locations[k] = location\n",
    "        return locations\n",
    "\n",
    "    # Find the difference between calculated and prior locations.\n",
    "    previous_location = locations[k - 1]\n",
    "    previous_i = previous_location[0]\n",
    "    previous_j = previous_location[1]\n",
    "    \n",
    "    # Calculated location on top of previous location.\n",
    "    # Move it off.\n",
    "    if i == previous_i and j == previous_j:\n",
    "        print('Calculated location on top of previous location.')\n",
    "        if cells[i][j -1 ] == 1:\n",
    "            j -= 1\n",
    "            print('Move West.')\n",
    "        elif cells[i][j + 1] == 1:\n",
    "            j += 1\n",
    "            print('Move East.')\n",
    "        elif cells[i - 1][j] == 1:\n",
    "            i -= 1\n",
    "            print('Move North.')\n",
    "        else:\n",
    "            i += 1\n",
    "            print('Move South.')\n",
    "            \n",
    "    # Adjust location until it becomes contiguous with the prior location.\n",
    "    debug_counter = 0\n",
    "    while True:\n",
    "        debug_counter += 1\n",
    "        if debug_counter > 100:\n",
    "            print('Bad while loop.')\n",
    "            break\n",
    "            \n",
    "        # Calculated location on top of previous location.\n",
    "        # Move it off.\n",
    "        if i == previous_i and j == previous_j:\n",
    "            print('Calculated location on top of previous location.')\n",
    "            if cells[i][j -1 ] == 1:\n",
    "                j -= 1\n",
    "                print('Move West.')\n",
    "            elif cells[i][j + 1] == 1:\n",
    "                j += 1\n",
    "                print('Move East.')\n",
    "            elif cells[i - 1][j] == 1:\n",
    "                i -= 1\n",
    "                print('Move North.')\n",
    "            else:\n",
    "                i += 1\n",
    "                print('Move South.')\n",
    "            \n",
    "        # Stop when the current and prior locations are contiguous.\n",
    "        i_difference = abs(i - previous_i)\n",
    "        j_difference = abs(j - previous_j)\n",
    "        \n",
    "        # Contiguous East-West.\n",
    "        if i_difference == 0 and j_difference == 1:\n",
    "            break\n",
    "            \n",
    "        # Contiguous North-South.\n",
    "        if j_difference == 0 and i_difference == 1:\n",
    "            break\n",
    "            \n",
    "        # Contiguous Northwest-Southeast or Northeast-Southwest.\n",
    "#         if i_difference == 1 and j_difference == 1:\n",
    "#             break\n",
    "            \n",
    "#         print(' ')\n",
    "#         print('i_difference:', i_difference, 'j_difference:', j_difference)\n",
    "        \n",
    "        # Current location is South of prior location.\n",
    "        if i_difference >= 1:\n",
    "            # Move location North.\n",
    "            if i > previous_i:   \n",
    "                print('South of previous.')\n",
    "                # If North is blocked, move either East or West and try again.\n",
    "                if cells[i - 1][j] == 0:\n",
    "                    if j < 5:\n",
    "                        j -= 1\n",
    "                        print('Blocked, moved West.')\n",
    "                    else:\n",
    "                        j += 1\n",
    "                        print('Blocked, moved East.')\n",
    "                    continue\n",
    "                else:\n",
    "                    i -= 1\n",
    "                    print('Moved North.')\n",
    "            # Current location is North of prior location.\n",
    "            elif i < previous_i:  \n",
    "                print('North of previous.')\n",
    "                # If South is blocked, move either East or West and try again.\n",
    "                if cells[i + 1][j] == 0:\n",
    "                    if j < 5:\n",
    "                        j -= 1\n",
    "                        print('Blocked, moved West.')\n",
    "                    else:\n",
    "                        j += 1\n",
    "                        print('Blocked, moved East.')\n",
    "                    continue\n",
    "                else:\n",
    "                    i += 1\n",
    "                    print('Moved South.')\n",
    "#             continue\n",
    "            \n",
    "            # Stop when the current and prior locations are contiguous.\n",
    "        i_difference = abs(i - previous_i)\n",
    "        j_difference = abs(j - previous_j)\n",
    "        \n",
    "        # Contiguous East-West.\n",
    "        if i_difference == 0 and j_difference == 1:\n",
    "            break\n",
    "            \n",
    "        # Contiguous North-South.\n",
    "        if j_difference == 0 and i_difference == 1:\n",
    "            break\n",
    "\n",
    "        # Current location is East of prior location.\n",
    "        if j_difference >= 1:\n",
    "            # Move location West\n",
    "            if j > previous_j:   \n",
    "                print('East of previous.')\n",
    "                # If West is blocked, move either South and try again.\n",
    "                if cells[i][j - 1] == 0:\n",
    "                    i += 1\n",
    "                    print('Blocked, moved South.')\n",
    "                    continue\n",
    "                else:\n",
    "                    j -= 1\n",
    "                    print('Moved West.')\n",
    "            # Current location is West of prior location.\n",
    "            elif j < previous_j:   \n",
    "                print('West of previous.')\n",
    "                # If East is blocked, move either North or South and try again.\n",
    "                if cells[i][j + 1] == 0:\n",
    "                    i += 1\n",
    "                    print('Blocked, moved South.')\n",
    "                    continue\n",
    "                else:\n",
    "                    j += 1\n",
    "                    print('Moved East.')\n",
    "#             continue\n",
    "        \n",
    "    location = (int(i), int(j), 1)\n",
    "    locations[k] = location \n",
    "    \n",
    "    return locations\n"
   ]
  },
  {
   "cell_type": "code",
   "execution_count": 10,
   "metadata": {
    "scrolled": false
   },
   "outputs": [
    {
     "name": "stdout",
     "output_type": "stream",
     "text": [
      " \n",
      "Hidden Markov Model\n",
      "Patrick Humphries (pvhumphr@usc.edu)\n",
      "University of Southern California\n",
      "INF 552 Machine Learning for Data Science (32458)\n",
      "Programming Assignment 7\n",
      "Spring 2020\n",
      " \n",
      "This application finds the robot's next location:\n",
      "1.  Calculate location using noisy distances (emissions).\n",
      "2.  Adjust calculated location until it is contiguous with\n",
      "    previous location while avoiding obsticales (transition template)\n",
      " \n",
      " \n",
      "Defining grid with obstructions and borders.\n",
      "Plot Cells\n"
     ]
    },
    {
     "data": {
      "image/png": "[encoded data removed]",
      "text/plain": [
       "<Figure size 432x288 with 1 Axes>"
      ]
     },
     "metadata": {
      "needs_background": "light"
     },
     "output_type": "display_data"
    },
    {
     "name": "stdout",
     "output_type": "stream",
     "text": [
      " \n",
      "Defining observations (steps).\n",
      " \n",
      "Steps (Observations)\n",
      "Step: 0 \t Tower 1: 6.3 \t Tower 2: 5.9 \t Tower 3: 5.5 \t Tower 4: 6.7\n",
      "Step: 1 \t Tower 1: 5.7 \t Tower 2: 7.2 \t Tower 3: 4.4 \t Tower 4: 6.8\n",
      "Step: 2 \t Tower 1: 7.6 \t Tower 2: 9.4 \t Tower 3: 4.3 \t Tower 4: 5.4\n",
      "Step: 3 \t Tower 1: 9.5 \t Tower 2: 10.0 \t Tower 3: 3.7 \t Tower 4: 6.6\n",
      "Step: 4 \t Tower 1: 6.0 \t Tower 2: 10.7 \t Tower 3: 2.8 \t Tower 4: 5.8\n",
      "Step: 5 \t Tower 1: 9.3 \t Tower 2: 10.2 \t Tower 3: 2.6 \t Tower 4: 5.4\n",
      "Step: 6 \t Tower 1: 8.0 \t Tower 2: 13.1 \t Tower 3: 1.9 \t Tower 4: 9.4\n",
      "Step: 7 \t Tower 1: 6.4 \t Tower 2: 8.2 \t Tower 3: 3.9 \t Tower 4: 8.8\n",
      "Step: 8 \t Tower 1: 5.0 \t Tower 2: 10.3 \t Tower 3: 3.6 \t Tower 4: 7.2\n",
      "Step: 9 \t Tower 1: 3.8 \t Tower 2: 9.8 \t Tower 3: 4.4 \t Tower 4: 8.8\n",
      "Step: 10 \t Tower 1: 3.3 \t Tower 2: 7.6 \t Tower 3: 4.3 \t Tower 4: 8.5\n",
      " \n",
      "Run the Viterbi Algorithm\n",
      " \n",
      "Step 1\n",
      "Getting robot location based on emissions (distances).\n",
      "Calculated i: 4 j: 5\n",
      "Next to obstruction, moved West.\n",
      "Plot Cells\n"
     ]
    },
    {
     "data": {
      "image/png": "[encoded data removed]",
      "text/plain": [
       "<Figure size 432x288 with 1 Axes>"
      ]
     },
     "metadata": {
      "needs_background": "light"
     },
     "output_type": "display_data"
    },
    {
     "name": "stdout",
     "output_type": "stream",
     "text": [
      " \n",
      "Step 2\n",
      "Getting robot location based on emissions (distances).\n",
      "Calculated i: 4 j: 4\n",
      "Calculated location on top of previous location.\n",
      "Move West.\n",
      "Plot Cells\n"
     ]
    },
    {
     "data": {
      "image/png": "[encoded data removed]",
      "text/plain": [
       "<Figure size 432x288 with 1 Axes>"
      ]
     },
     "metadata": {
      "needs_background": "light"
     },
     "output_type": "display_data"
    },
    {
     "name": "stdout",
     "output_type": "stream",
     "text": [
      " \n",
      "Step 3\n",
      "Getting robot location based on emissions (distances).\n",
      "Calculated i: 6 j: 3\n",
      "South of previous.\n",
      "Moved North.\n",
      "Plot Cells\n"
     ]
    },
    {
     "data": {
      "image/png": "[encoded data removed]",
      "text/plain": [
       "<Figure size 432x288 with 1 Axes>"
      ]
     },
     "metadata": {
      "needs_background": "light"
     },
     "output_type": "display_data"
    },
    {
     "name": "stdout",
     "output_type": "stream",
     "text": [
      " \n",
      "Step 4\n",
      "Getting robot location based on emissions (distances).\n",
      "Calculated i: 7 j: 4\n",
      "South of previous.\n",
      "Moved North.\n",
      "East of previous.\n",
      "Moved West.\n",
      "Plot Cells\n"
     ]
    },
    {
     "data": {
      "image/png": "[encoded data removed]",
      "text/plain": [
       "<Figure size 432x288 with 1 Axes>"
      ]
     },
     "metadata": {
      "needs_background": "light"
     },
     "output_type": "display_data"
    },
    {
     "name": "stdout",
     "output_type": "stream",
     "text": [
      " \n",
      "Step 5\n",
      "Getting robot location based on emissions (distances).\n",
      "Calculated i: 5 j: 1\n",
      "North of previous.\n",
      "Moved South.\n",
      "West of previous.\n",
      "Moved East.\n",
      "Plot Cells\n"
     ]
    },
    {
     "data": {
      "image/png": "[encoded data removed]",
      "text/plain": [
       "<Figure size 432x288 with 1 Axes>"
      ]
     },
     "metadata": {
      "needs_background": "light"
     },
     "output_type": "display_data"
    },
    {
     "name": "stdout",
     "output_type": "stream",
     "text": [
      " \n",
      "Step 6\n",
      "Getting robot location based on emissions (distances).\n",
      "Calculated i: 7 j: 4\n",
      "South of previous.\n",
      "Moved North.\n",
      "East of previous.\n",
      "Moved West.\n",
      "Plot Cells\n"
     ]
    },
    {
     "data": {
      "image/png": "[encoded data removed]",
      "text/plain": [
       "<Figure size 432x288 with 1 Axes>"
      ]
     },
     "metadata": {
      "needs_background": "light"
     },
     "output_type": "display_data"
    },
    {
     "name": "stdout",
     "output_type": "stream",
     "text": [
      " \n",
      "Step 7\n",
      "Getting robot location based on emissions (distances).\n",
      "Calculated i: 3 j: 0\n",
      "North of previous.\n",
      "Moved South.\n",
      "West of previous.\n",
      "Moved East.\n",
      "North of previous.\n",
      "Moved South.\n",
      "West of previous.\n",
      "Blocked, moved South.\n",
      "West of previous.\n",
      "Moved East.\n",
      "Plot Cells\n"
     ]
    },
    {
     "data": {
      "image/png": "[encoded data removed]",
      "text/plain": [
       "<Figure size 432x288 with 1 Axes>"
      ]
     },
     "metadata": {
      "needs_background": "light"
     },
     "output_type": "display_data"
    },
    {
     "name": "stdout",
     "output_type": "stream",
     "text": [
      " \n",
      "Step 8\n",
      "Getting robot location based on emissions (distances).\n",
      "Calculated i: 1 j: 2\n",
      "North of previous.\n",
      "Blocked, moved West.\n",
      "North of previous.\n",
      "Moved South.\n",
      "West of previous.\n",
      "Blocked, moved South.\n",
      "North of previous.\n",
      "Moved South.\n",
      "West of previous.\n",
      "Blocked, moved South.\n",
      "North of previous.\n",
      "Moved South.\n",
      "Plot Cells\n"
     ]
    },
    {
     "data": {
      "image/png": "[encoded data removed]",
      "text/plain": [
       "<Figure size 432x288 with 1 Axes>"
      ]
     },
     "metadata": {
      "needs_background": "light"
     },
     "output_type": "display_data"
    },
    {
     "name": "stdout",
     "output_type": "stream",
     "text": [
      " \n",
      "Step 9\n",
      "Getting robot location based on emissions (distances).\n",
      "Calculated i: 3 j: 0\n",
      "North of previous.\n",
      "Moved South.\n",
      "West of previous.\n",
      "Moved East.\n",
      "North of previous.\n",
      "Moved South.\n",
      "Plot Cells\n"
     ]
    },
    {
     "data": {
      "image/png": "[encoded data removed]",
      "text/plain": [
       "<Figure size 432x288 with 1 Axes>"
      ]
     },
     "metadata": {
      "needs_background": "light"
     },
     "output_type": "display_data"
    },
    {
     "name": "stdout",
     "output_type": "stream",
     "text": [
      " \n",
      "Step 10\n",
      "Getting robot location based on emissions (distances).\n",
      "Calculated i: 1 j: 0\n",
      "North of previous.\n",
      "Moved South.\n",
      "West of previous.\n",
      "Moved East.\n",
      "North of previous.\n",
      "Moved South.\n",
      "North of previous.\n",
      "Moved South.\n",
      "Plot Cells\n"
     ]
    },
    {
     "data": {
      "image/png": "[encoded data removed]",
      "text/plain": [
       "<Figure size 432x288 with 1 Axes>"
      ]
     },
     "metadata": {
      "needs_background": "light"
     },
     "output_type": "display_data"
    },
    {
     "name": "stdout",
     "output_type": "stream",
     "text": [
      " \n",
      "Step 11\n",
      "Getting robot location based on emissions (distances).\n",
      "Calculated i: 1 j: 2\n",
      "North of previous.\n",
      "Blocked, moved West.\n",
      "North of previous.\n",
      "Moved South.\n",
      "North of previous.\n",
      "Moved South.\n",
      "Plot Cells\n"
     ]
    },
    {
     "data": {
      "image/png": "[encoded data removed]",
      "text/plain": [
       "<Figure size 432x288 with 1 Axes>"
      ]
     },
     "metadata": {
      "needs_background": "light"
     },
     "output_type": "display_data"
    },
    {
     "name": "stdout",
     "output_type": "stream",
     "text": [
      " \n",
      "Robot Locations\n",
      "step: 0 i: 4 j: 4\n",
      "step: 1 i: 4 j: 3\n",
      "step: 2 i: 5 j: 3\n",
      "step: 3 i: 6 j: 3\n",
      "step: 4 i: 6 j: 2\n",
      "step: 5 i: 6 j: 3\n",
      "step: 6 i: 6 j: 2\n",
      "step: 7 i: 6 j: 1\n",
      "step: 8 i: 5 j: 1\n",
      "step: 9 i: 4 j: 1\n",
      "step: 10 i: 3 j: 1\n",
      " \n",
      "Done!\n"
     ]
    }
   ],
   "source": [
    "# Main\n",
    "\n",
    "preamble()\n",
    "\n",
    "# The directions of a compass will be used as the direction dimension.\n",
    "N = 0; NE = 1; E = 2; SE = 3; S = 4; SW = 5; W = 6; NW = 7\n",
    "\n",
    "# Define tower identifiers.\n",
    "TOWER_1 = 0; TOWER_2 = 1; TOWER_3 = 2; TOWER_4 = 3\n",
    "\n",
    "# Define cells.\n",
    "cells = define_cells()\n",
    "plot_cells(cells, None)\n",
    "\n",
    "# Define observations (steps).\n",
    "steps = define_steps()\n",
    "\n",
    "# Calculate robot moves using Viterbi Algorithm.\n",
    "locations = run_viterbi_algorithm(steps, cells)\n",
    "\n",
    "print(' ')\n",
    "print('Robot Locations')\n",
    "for i in range(len(locations)):\n",
    "    print('step:', i, 'i:', locations[i][0], 'j:', locations[i][1])\n",
    "    \n",
    "print(' ')\n",
    "print('Done!')"
   ]
  }
 ],
 "metadata": {
  "kernelspec": {
   "display_name": "Python 3.7.4 64-bit ('r-tutorial': conda)",
   "language": "python",
   "name": "python37464bitrtutorialconda93aafced6c5345ed911229bb54c902d6"
  },
  "language_info": {
   "codemirror_mode": {
    "name": "ipython",
    "version": 3
   },
   "file_extension": ".py",
   "mimetype": "text/x-python",
   "name": "python",
   "nbconvert_exporter": "python",
   "pygments_lexer": "ipython3",
   "version": "3.7.4"
  }
 },
 "nbformat": 4,
 "nbformat_minor": 2
}
