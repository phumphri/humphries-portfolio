{
 "cells": [
  {
   "cell_type": "code",
   "execution_count": 1,
   "metadata": {},
   "outputs": [
    {
     "name": "stdout",
     "output_type": "stream",
     "text": [
      " \n",
      "Hidden Markov Model using Pomegranate\n",
      "Patrick Humphries (pvhumphr@usc.edu)\n",
      "University of Southern California\n",
      "INF 552 Machine Learning for Data Science (32458)\n",
      "Programming Assignment 7\n",
      "Spring 2020\n",
      " \n",
      "This application finds the region of the grid where\n",
      "the probability of finding a free cell is 90 percent.\n",
      " \n",
      "A cell is made up of one of two value:  \"0\" for obstructed and \"1\" for free.\n",
      " \n",
      "The model will contain two distributions. One distribution wil be a current \n",
      "distribution of cells.  The other distribution will have a preference for\n",
      "90 percent free cells and 10 percent obstructed cells.\n"
     ]
    }
   ],
   "source": [
    "# Display identification\n",
    "print(' ')\n",
    "print('Hidden Markov Model using Pomegranate')\n",
    "print('Patrick Humphries (pvhumphr@usc.edu)')\n",
    "print('University of Southern California')\n",
    "print('INF 552 Machine Learning for Data Science (32458)')\n",
    "print('Programming Assignment 7')\n",
    "print('Spring 2020')\n",
    "print(' ')\n",
    "print('This application finds the region of the grid where')\n",
    "print('the probability of finding a free cell is 90 percent.')\n",
    "print(' ')\n",
    "print('A cell is made up of one of two value:  \"0\" for obstructed and \"1\" for free.')\n",
    "print(' ')\n",
    "print('The model will contain two distributions. One distribution wil be a current ')\n",
    "print('distribution of cells.  The other distribution will have a preference for')\n",
    "print('90 percent free cells and 10 percent obstructed cells.')"
   ]
  },
  {
   "cell_type": "code",
   "execution_count": 2,
   "metadata": {},
   "outputs": [],
   "source": [
    "# Install libraries.\n",
    "# conda install pomegranate"
   ]
  },
  {
   "cell_type": "code",
   "execution_count": 3,
   "metadata": {},
   "outputs": [
    {
     "name": "stdout",
     "output_type": "stream",
     "text": [
      " \n",
      "Loading libraries.\n"
     ]
    }
   ],
   "source": [
    "# Import libraries.\n",
    "print(' ')\n",
    "print('Loading libraries.')\n",
    "import matplotlib.pyplot as plt\n",
    "import numpy\n",
    "from pomegranate import *"
   ]
  },
  {
   "cell_type": "code",
   "execution_count": 4,
   "metadata": {},
   "outputs": [
    {
     "name": "stdout",
     "output_type": "stream",
     "text": [
      " \n",
      "Defining distributions.\n"
     ]
    }
   ],
   "source": [
    "# Define cell values.\n",
    "print(' ')\n",
    "print('Defining distributions.')\n",
    "obstructed = '0'\n",
    "free = '1'\n",
    "\n",
    "# The total number of obstructions is 13.\n",
    "percent_obstructed = 13 / 100\n",
    "percent_free = 1 - percent_obstructed\n",
    "\n",
    "current_distribution = DiscreteDistribution({obstructed: percent_obstructed, free: percent_free})\n",
    "desired_distribution = DiscreteDistribution({obstructed: 0.10, free: 0.90})"
   ]
  },
  {
   "cell_type": "code",
   "execution_count": 5,
   "metadata": {},
   "outputs": [
    {
     "name": "stdout",
     "output_type": "stream",
     "text": [
      " \n",
      "Defining states based on distributions.\n"
     ]
    }
   ],
   "source": [
    "# Define the states based on distributions.\n",
    "print(' ')\n",
    "print('Defining states based on distributions.')\n",
    "chaos = State(current_distribution, name='Chaos')\n",
    "freedom = State(desired_distribution, name='Freedom')"
   ]
  },
  {
   "cell_type": "code",
   "execution_count": 6,
   "metadata": {},
   "outputs": [
    {
     "name": "stdout",
     "output_type": "stream",
     "text": [
      " \n",
      "Defining model based on states.\n"
     ]
    }
   ],
   "source": [
    "# Define the HMM and add the states.\n",
    "print(' ')\n",
    "print('Defining model based on states.')\n",
    "model = HiddenMarkovModel()\n",
    "model.add_states(chaos, freedom)"
   ]
  },
  {
   "cell_type": "code",
   "execution_count": 7,
   "metadata": {},
   "outputs": [
    {
     "name": "stdout",
     "output_type": "stream",
     "text": [
      " \n",
      "Adding transitions to the mode.\n"
     ]
    }
   ],
   "source": [
    "# Add transitions from the starting state to each of the states.\n",
    "print(' ')\n",
    "print('Adding transitions to the mode.')\n",
    "model.add_transition(model.start, chaos, 0.5)\n",
    "model.add_transition(model.start, freedom, 0.5)\n",
    "\n",
    "# Add transitions from state to state.\n",
    "model.add_transition(chaos, chaos, 0.9)\n",
    "model.add_transition(chaos, freedom, 0.1)\n",
    "model.add_transition(freedom, chaos, 0.1)\n",
    "model.add_transition(freedom, freedom, 0.9)"
   ]
  },
  {
   "cell_type": "code",
   "execution_count": 8,
   "metadata": {},
   "outputs": [
    {
     "name": "stdout",
     "output_type": "stream",
     "text": [
      " \n",
      "Initializing (bake) the model.\n"
     ]
    }
   ],
   "source": [
    "# Initialize the internal structures based on the transitions.\n",
    "print(' ')\n",
    "print('Initializing (bake) the model.')\n",
    "model.bake()"
   ]
  },
  {
   "cell_type": "code",
   "execution_count": 9,
   "metadata": {},
   "outputs": [
    {
     "name": "stdout",
     "output_type": "stream",
     "text": [
      " \n",
      "Making predictions for the region of free cells.\n"
     ]
    }
   ],
   "source": [
    "# Make predictions based on current cells and desired distributions.\n",
    "print(' ')\n",
    "print('Making predictions for the region of free cells.')\n",
    "# Define the grid of free cells.\n",
    "cells = numpy.ones((10,10), dtype=int)\n",
    "\n",
    "# Add Obstructions\n",
    "cells[1][2] = 0\n",
    "cells[1][3] = 0\n",
    "cells[1][4] = 0\n",
    "cells[1][5] = 0\n",
    "cells[1][6] = 0\n",
    "cells[2][2] = 0\n",
    "cells[2][6] = 0\n",
    "cells[3][2] = 0\n",
    "cells[3][6] = 0\n",
    "cells[4][2] = 0\n",
    "cells[4][6] = 0\n",
    "cells[5][2] = 0\n",
    "cells[5][6] = 0\n",
    "\n",
    "\n",
    "# The model expects an one-dimensional array of strings.\n",
    "seq = cells.reshape(100)\n",
    "seq = seq.astype(numpy.str)\n",
    "\n",
    "# Make predictions.\n",
    "predictions = model.predict(seq)\n",
    "predictions = numpy.array(predictions)\n",
    "predictions = predictions.astype(numpy.str)\n",
    "\n",
    "# Resize cells and predictions for plotting.\n",
    "predictions.resize(10,10)\n",
    "cells.resize(10,10)\n"
   ]
  },
  {
   "cell_type": "code",
   "execution_count": 10,
   "metadata": {},
   "outputs": [
    {
     "name": "stdout",
     "output_type": "stream",
     "text": [
      " \n",
      "Plotting the grid with obstructions and region of free cells.\n"
     ]
    },
    {
     "data": {
      "image/png": "[encoded data removed]",
      "text/plain": [
       "<Figure size 432x288 with 1 Axes>"
      ]
     },
     "metadata": {
      "needs_background": "light"
     },
     "output_type": "display_data"
    }
   ],
   "source": [
    "# Plotting grid.\n",
    "print(' ')\n",
    "print('Plotting the grid with obstructions and region of free cells.')\n",
    "\n",
    "# Define headings.\n",
    "rows = ('0', '1', '2', '3', '4', '5', '6', '7', '8', '9')\n",
    "cols = ('0', '1', '2', '3', '4', '5', '6', '7', '8', '9')\n",
    "\n",
    "# Set the grid to white, indicating free cells.\n",
    "colors = numpy.full((10,10), 'w', dtype='object')\n",
    "\n",
    "# Add obstructions and borders as red.\n",
    "for i in range(10):\n",
    "    for j in range(10):\n",
    "        if cells[i][j] == 0:\n",
    "            colors[i][j] = 'r'\n",
    "\n",
    "# Add freedom region as green.\n",
    "for i in range(10):\n",
    "    for j in range(10):\n",
    "        if colors[i][j] != 'r': \n",
    "            if predictions[i][j] == '1':\n",
    "                colors[i][j] = 'g'\n",
    "\n",
    "# Plot the grid.\n",
    "fig, ax = plt.subplots()\n",
    "\n",
    "ax.axis('off')\n",
    "\n",
    "ax.table(cellText=cells, rowLabels=rows, colLabels=cols, cellColours=colors, loc='center', cellLoc='center')\n",
    "\n",
    "plt.show()\n",
    "  "
   ]
  }
 ],
 "metadata": {
  "kernelspec": {
   "display_name": "Python 3",
   "language": "python",
   "name": "python3"
  },
  "language_info": {
   "codemirror_mode": {
    "name": "ipython",
    "version": 3
   },
   "file_extension": ".py",
   "mimetype": "text/x-python",
   "name": "python",
   "nbconvert_exporter": "python",
   "pygments_lexer": "ipython3",
   "version": "3.7.1"
  },
  "toc": {
   "base_numbering": 1,
   "nav_menu": {},
   "number_sections": true,
   "sideBar": true,
   "skip_h1_title": false,
   "title_cell": "Table of Contents",
   "title_sidebar": "Contents",
   "toc_cell": false,
   "toc_position": {},
   "toc_section_display": true,
   "toc_window_display": false
  }
 },
 "nbformat": 4,
 "nbformat_minor": 1
}
